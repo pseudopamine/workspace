{
 "cells": [
  {
   "cell_type": "code",
   "execution_count": null,
   "metadata": {},
   "outputs": [
    {
     "name": "stdout",
     "output_type": "stream",
     "text": [
      "1보다 큽니다\n",
      "1보다 큽니다\n",
      "num1은 2보다 작습니다\n"
     ]
    }
   ],
   "source": [
    "# 파이썬 주의사항\n",
    "# 1. 파이썬은 코드 뒤에 세미콜론 없음.\n",
    "# 2. 파이썬 코드에는 (객체를 표현하는 것 말고는) 중괄호가 없음. \n",
    "#    -> 들여쓰기로 영역을 결정! (매우 민감)\n",
    "num1 = 3\n",
    "\n",
    "if num1 > 1 : \n",
    "  print('1보다 큽니다')\n",
    "  print('1보다 큽니다')\n",
    "\n",
    "if num1 < 2 :\n",
    "  print('num1은 2보다 작습니다')\n",
    "print('num1은 2보다 작습니다')\n"
   ]
  },
  {
   "cell_type": "code",
   "execution_count": 4,
   "metadata": {},
   "outputs": [
    {
     "name": "stdout",
     "output_type": "stream",
     "text": [
      "2\n"
     ]
    }
   ],
   "source": [
    "num1 = 5\n",
    "\n",
    "if num1 > 5 :\n",
    "  print(1)\n",
    "elif num1 <= 5 :\n",
    "  print(2)\n",
    "else : \n",
    "  print(3)"
   ]
  },
  {
   "cell_type": "code",
   "execution_count": 5,
   "metadata": {},
   "outputs": [
    {
     "name": "stdout",
     "output_type": "stream",
     "text": [
      "참\n"
     ]
    }
   ],
   "source": [
    "# 파이썬은 리스트의 \n",
    "scoreList = [80, 70, 60, 90]\n",
    "\n",
    "#scoreList에 90이 포함되어 있으면 '참'을 출력\n",
    "if 90 in scoreList : \n",
    "  print('참')"
   ]
  },
  {
   "cell_type": "code",
   "execution_count": null,
   "metadata": {},
   "outputs": [],
   "source": []
  }
 ],
 "metadata": {
  "kernelspec": {
   "display_name": "Python 3",
   "language": "python",
   "name": "python3"
  },
  "language_info": {
   "codemirror_mode": {
    "name": "ipython",
    "version": 3
   },
   "file_extension": ".py",
   "mimetype": "text/x-python",
   "name": "python",
   "nbconvert_exporter": "python",
   "pygments_lexer": "ipython3",
   "version": "3.13.2"
  }
 },
 "nbformat": 4,
 "nbformat_minor": 2
}
