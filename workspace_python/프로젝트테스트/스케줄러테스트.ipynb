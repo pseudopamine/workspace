{
 "cells": [
  {
   "cell_type": "code",
   "execution_count": null,
   "metadata": {},
   "outputs": [],
   "source": [
    "import schedule\n",
    "import time\n",
    "\n",
    "# step2.실행할 함수 선언\n",
    "def message():\n",
    "    print(\"스케쥴 실행중...\")\n",
    "\n",
    "# step3.실행 주기 설정\n",
    "schedule.every(1).seconds.do(message)\n",
    "\n",
    "# step4.스캐쥴 시작\n",
    "while True:\n",
    "    schedule.run_pending()\n",
    "    time.sleep(1)"
   ]
  },
  {
   "cell_type": "code",
   "execution_count": null,
   "metadata": {},
   "outputs": [],
   "source": [
    "import schedule\n",
    "import time\n",
    "\n",
    "def message1():\n",
    "    print(\"스케쥴 실행중...\")\n",
    "\n",
    "def message2(text):\n",
    "    print(text)\n",
    "\n",
    "# 주기 설정\n",
    "job1 = schedule.every(1).seconds.do(message1)\n",
    "job2 = schedule.every(2).seconds.do(message2,'2초마다 알림')\n",
    "\n",
    "\n",
    "count = 0\n",
    "\n",
    "while True:\n",
    "\n",
    "    schedule.run_pending()\n",
    "    time.sleep(1)\n",
    "\n",
    "    count = count + 1\n",
    "\n",
    "    if count > 5:\n",
    "        schedule.cancel_job(job1)"
   ]
  },
  {
   "cell_type": "code",
   "execution_count": 9,
   "metadata": {},
   "outputs": [
    {
     "name": "stdout",
     "output_type": "stream",
     "text": [
      "function exit\n"
     ]
    },
    {
     "ename": "SystemExit",
     "evalue": "",
     "output_type": "error",
     "traceback": [
      "An exception has occurred, use %tb to see the full traceback.\n",
      "\u001b[1;31mSystemExit\u001b[0m\n"
     ]
    }
   ],
   "source": [
    "import schedule\n",
    "import time\n",
    "import datetime\n",
    "import sys\n",
    "\n",
    "#스케쥴 모듈이 동작시킬 코드 : 현재 시간 출력\n",
    "def test_function():\n",
    "    now = datetime.datetime.now()\n",
    "    print(\"test code- 현재 시간 출력하기\")\n",
    "    print(now)\n",
    "\n",
    "#프로그램을 종료시키기 위한 함수\n",
    "def exit():\n",
    "    print(\"function exit\")\n",
    "    sys.exit()\n",
    "    \n",
    "#1초마다 test_fuction을 동작시키다가 \"22:21\"이 되면 프로그램 종료\n",
    "schedule.every(1).seconds.do(test_function)\n",
    "schedule.every().day.at(\"10:22\").do(exit)\n",
    "\n",
    "\n",
    "#무한 루프를 돌면서 스케쥴을 유지한다.\n",
    "while True:\n",
    "    schedule.run_pending()\n",
    "    time.sleep(1)\n"
   ]
  }
 ],
 "metadata": {
  "kernelspec": {
   "display_name": "Python 3",
   "language": "python",
   "name": "python3"
  },
  "language_info": {
   "codemirror_mode": {
    "name": "ipython",
    "version": 3
   },
   "file_extension": ".py",
   "mimetype": "text/x-python",
   "name": "python",
   "nbconvert_exporter": "python",
   "pygments_lexer": "ipython3",
   "version": "3.13.2"
  }
 },
 "nbformat": 4,
 "nbformat_minor": 2
}
