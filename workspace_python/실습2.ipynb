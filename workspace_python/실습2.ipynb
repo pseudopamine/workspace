{
 "cells": [
  {
   "cell_type": "code",
   "execution_count": null,
   "metadata": {},
   "outputs": [],
   "source": [
    "del max"
   ]
  },
  {
   "cell_type": "code",
   "execution_count": null,
   "metadata": {},
   "outputs": [
    {
     "name": "stdout",
     "output_type": "stream",
     "text": [
      "10\n",
      "10\n"
     ]
    }
   ],
   "source": [
    "#1. 다음 리스트에서 최대값을 구하시오.\n",
    "list1 = [3, 10, 8, 7, 5]\n",
    "\n",
    "maxData = list1[0]\n",
    "for i in list1:\n",
    "  if maxData < i :\n",
    "    maxData = i\n",
    "\n",
    "print(maxData)\n",
    "\n",
    "print(max(list1)) #최대값을 구하는 파이썬 함수\n"
   ]
  },
  {
   "cell_type": "code",
   "execution_count": 27,
   "metadata": {},
   "outputs": [],
   "source": [
    "del sum"
   ]
  },
  {
   "cell_type": "code",
   "execution_count": 28,
   "metadata": {},
   "outputs": [
    {
     "name": "stdout",
     "output_type": "stream",
     "text": [
      "54\n",
      "54\n"
     ]
    }
   ],
   "source": [
    "#2. 다음 두 리스트에 존재하는 모든 요소의 합을 구하시오.\n",
    "list2 = [1, 3, 5]\n",
    "list3 = [10, 15, 20]\n",
    "\n",
    "list4 = list2 + list3\n",
    "\n",
    "sumData = 0\n",
    "for i in list4 :\n",
    "  sumData = sumData + i\n",
    "\n",
    "print(sumData)\n",
    "print(sum(list2+list3))"
   ]
  },
  {
   "cell_type": "code",
   "execution_count": 34,
   "metadata": {},
   "outputs": [
    {
     "name": "stdout",
     "output_type": "stream",
     "text": [
      "1 2 5 10 "
     ]
    }
   ],
   "source": [
    "#3. 입력받은 정수의 약수를 모두 출력하세요\n",
    "#ex> 입력 10 -> 1, 2, 5, 10\n",
    "\n",
    "data1 = int(input('정수를 입력하세요'))\n",
    "\n",
    "for i in range(1, data1 + 1) : \n",
    "  if data1 %  i == 0 :\n",
    "    print(i, end=' ')"
   ]
  },
  {
   "cell_type": "code",
   "execution_count": 1,
   "metadata": {},
   "outputs": [
    {
     "name": "stdout",
     "output_type": "stream",
     "text": [
      "[2, 4, 6]\n"
     ]
    }
   ],
   "source": [
    "#4. 키보드로 입력받은 세 정수 * 2한 값을 요소로 갖는 리스트를 생성하고 출력하세요.\n",
    "#ex> 입력 : 1,5,10 -> 결과 : [2, 10, 20]\n",
    "\n",
    "list5 = []\n",
    "for i in range(3) : \n",
    "  data = int(input(f'{i + 1}번째 정수를 입력하세요')) * 2\n",
    "  list5.append(data)\n",
    "  \n",
    "print(list5)\n"
   ]
  },
  {
   "cell_type": "code",
   "execution_count": 2,
   "metadata": {},
   "outputs": [
    {
     "name": "stdout",
     "output_type": "stream",
     "text": [
      "3\n"
     ]
    }
   ],
   "source": [
    "#5. 다음의 데이터에서 't' 의 갯수를 구하시오.\n",
    "#힌트 : 파이썬은 문자열도 리스트이기에 반복문을 사용할 수 있음\n",
    "data = ['brother', 'mother', 'sister']\n",
    "\n",
    "dataCnt = 0\n",
    "for word in data :\n",
    "  for c in word :\n",
    "    if c == 't' :\n",
    "      dataCnt = dataCnt + 1\n",
    "\n",
    "print(dataCnt)"
   ]
  }
 ],
 "metadata": {
  "kernelspec": {
   "display_name": "Python 3",
   "language": "python",
   "name": "python3"
  },
  "language_info": {
   "codemirror_mode": {
    "name": "ipython",
    "version": 3
   },
   "file_extension": ".py",
   "mimetype": "text/x-python",
   "name": "python",
   "nbconvert_exporter": "python",
   "pygments_lexer": "ipython3",
   "version": "3.13.2"
  }
 },
 "nbformat": 4,
 "nbformat_minor": 2
}
