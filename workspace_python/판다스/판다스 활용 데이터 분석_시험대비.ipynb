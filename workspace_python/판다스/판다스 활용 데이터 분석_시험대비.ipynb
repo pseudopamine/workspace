{
 "cells": [
  {
   "cell_type": "markdown",
   "id": "3609ab45",
   "metadata": {},
   "source": [
    "### 판다스 활용 데이터 분석"
   ]
  },
  {
   "cell_type": "markdown",
   "id": "ad1f7e5f",
   "metadata": {},
   "source": [
    "1. 키보드로 세 수를 입력받고,입력받은 세 수를 리스트에 저장하시오. 그 후 리스트에 저장된 수 중 가장 큰 수와 가장 작은 수의 차를 출력하시오."
   ]
  },
  {
   "cell_type": "code",
   "execution_count": null,
   "id": "59446e63",
   "metadata": {},
   "outputs": [
    {
     "name": "stdout",
     "output_type": "stream",
     "text": [
      "6 - 2 = 4\n"
     ]
    }
   ],
   "source": [
    "#1번 문제 풀이 작성\n",
    "\n",
    "num1 = int(input(\"숫자를 입력하세요: \"))\n",
    "\n",
    "num2 = int(input(\"숫자를 입력하세요: \"))\n",
    "\n",
    "if num1 > num2:\n",
    "  max = num1\n",
    "  min= num2\n",
    "else:\n",
    "  max = num2\n",
    "  min = num1\n",
    "\n",
    "num3 = int(input(\"숫자를 입력하세요: \"))\n",
    "\n",
    "if num3 > max :\n",
    "  max = num3\n",
    "if num3 < min :\n",
    "  min = num3\n",
    "\n",
    "\n",
    "print(f'{max} - {min} = {max - min}')"
   ]
  },
  {
   "cell_type": "markdown",
   "id": "45634a8b",
   "metadata": {},
   "source": [
    "2. 매개변수로 두 개의 리스트를 받아, 두 개의 리스트에 저장된 모든 데이터의 합을 리턴하는 함수를 작성하시오.  \n",
    "EX> 두 매개변수 : [1,2,3] , [4,5,6] / 결과 : 21"
   ]
  },
  {
   "cell_type": "code",
   "execution_count": 7,
   "id": "64188f9f",
   "metadata": {},
   "outputs": [
    {
     "name": "stdout",
     "output_type": "stream",
     "text": [
      "21\n"
     ]
    }
   ],
   "source": [
    "#2번 문제 풀이 작성\n",
    "list1 = [1, 2, 3]\n",
    "list2 = [4, 5, 6]\n",
    "\n",
    "list3 = list1 + list2\n",
    "\n",
    "sumData = 0\n",
    "for i in list3 :\n",
    "  sumData = sumData + i\n",
    "\n",
    "print(sumData)"
   ]
  },
  {
   "cell_type": "markdown",
   "id": "2e03b884",
   "metadata": {},
   "source": [
    "3. 매개변수로 두 개의 리스트를 받아, 두 개의 리스트에 중복으로 저장된 데이터만을 갖는  새로운 리스트를 리턴하는 함수를 작성하시오.  \n",
    "EX> 두 매개변수 : [1,3,5,7,9] , [1,2,3,4,5] / 결과 : [1,3,5]"
   ]
  },
  {
   "cell_type": "code",
   "execution_count": null,
   "id": "06603c1d",
   "metadata": {},
   "outputs": [
    {
     "name": "stdout",
     "output_type": "stream",
     "text": [
      "[1, 3, 5]\n"
     ]
    }
   ],
   "source": [
    "#3번 문제 풀이 작성\n",
    "list1 = [1, 3, 5, 7, 9]\n",
    "list2 = [1, 2, 3, 4, 5]\n",
    "\n",
    "def getCommonList(list1, list2):\n",
    "  commonList = []\n",
    "  for listA in list1:\n",
    "    for listB in list2:\n",
    "      if listA == listB:  \n",
    "        commonList.append(listA)\n",
    "        break  \n",
    "  return commonList\n",
    "\n",
    "result = getCommonList(list1, list2)\n",
    "print(result)\n"
   ]
  },
  {
   "cell_type": "markdown",
   "id": "cfde14e4",
   "metadata": {},
   "source": [
    "4. 이름, 나이, 국어점수, 영어점수, 국어점수를 데이터로 갖는 student 딕셔너리를 만드시오. 각 데이터는 키보드로 입력받아 저장하시오."
   ]
  },
  {
   "cell_type": "code",
   "execution_count": 15,
   "id": "3bec11d1",
   "metadata": {},
   "outputs": [
    {
     "name": "stdout",
     "output_type": "stream",
     "text": [
      "{'name': '홍길동', 'age': 30, 'korScore': 80, 'engScore': 90, 'mathScore': 70}\n"
     ]
    }
   ],
   "source": [
    "#4번 문제 풀이 작성\n",
    "student = {\n",
    "  'name' : '',\n",
    "  'age' : 0,\n",
    "  'korScore' : 0,\n",
    "  'engScore' : 0,\n",
    "  'mathScore' : 0\n",
    "}\n",
    "\n",
    "student['name'] = input('이름을 입력하시오')\n",
    "student['age'] = int(input('나이를 입력하시오'))\n",
    "student['engScore'] = int(input('영어점수를 입력하시오'))\n",
    "student['korScore'] = int(input('국어점수를 입력하시오'))\n",
    "student['mathScore'] = int(input('수학점수를 입력하시오'))\n",
    "\n",
    "print(student)"
   ]
  },
  {
   "cell_type": "markdown",
   "id": "bfdfd34d",
   "metadata": {},
   "source": [
    "5. 4번 문제에서 만든 딕셔너리 데이터에 총점 데이터를 추가하시오. 총점 데이터는 국어,영어, 수학점수의 합으로 들어가야합니다."
   ]
  },
  {
   "cell_type": "code",
   "execution_count": 16,
   "id": "98179e8a",
   "metadata": {},
   "outputs": [
    {
     "name": "stdout",
     "output_type": "stream",
     "text": [
      "{'name': '홍길동', 'age': 30, 'korScore': 80, 'engScore': 90, 'mathScore': 70, 'totalScore': 240}\n"
     ]
    }
   ],
   "source": [
    "#5번 문제 풀이 작성\n",
    "student['totalScore'] = student['korScore'] +student['engScore'] + student['mathScore']\n",
    "\n",
    "print(student)"
   ]
  },
  {
   "cell_type": "markdown",
   "id": "ec5ad5ab",
   "metadata": {},
   "source": [
    "6. 아래 딕셔너리 데이터에 stu_grade라는 키를 추가하고, 해당 키의  데이터로  점수(stu_score)에 따른 등급 데이터를 저장하시오.  \n",
    "90 <= 점수      : A등급  \n",
    "80 <= 점수 < 90 : B등급  \n",
    "70 <= 점수 < 80 : C등급  \n",
    "      점수 < 70 : D등급 "
   ]
  },
  {
   "cell_type": "code",
   "execution_count": 25,
   "id": "c53fe493",
   "metadata": {},
   "outputs": [
    {
     "ename": "TypeError",
     "evalue": "string indices must be integers, not 'str'",
     "output_type": "error",
     "traceback": [
      "\u001b[1;31m---------------------------------------------------------------------------\u001b[0m",
      "\u001b[1;31mTypeError\u001b[0m                                 Traceback (most recent call last)",
      "Cell \u001b[1;32mIn[25], line 19\u001b[0m\n\u001b[0;32m     16\u001b[0m         \u001b[38;5;28;01mreturn\u001b[39;00m \u001b[38;5;124m\"\u001b[39m\u001b[38;5;124mD\u001b[39m\u001b[38;5;124m\"\u001b[39m\n\u001b[0;32m     18\u001b[0m \u001b[38;5;28;01mfor\u001b[39;00m data \u001b[38;5;129;01min\u001b[39;00m class_room_data :\n\u001b[1;32m---> 19\u001b[0m     data[\u001b[38;5;124m'\u001b[39m\u001b[38;5;124mstu_grade\u001b[39m\u001b[38;5;124m'\u001b[39m] \u001b[38;5;241m=\u001b[39m getGrade(\u001b[43mdata\u001b[49m\u001b[43m[\u001b[49m\u001b[38;5;124;43m'\u001b[39;49m\u001b[38;5;124;43mstu_score\u001b[39;49m\u001b[38;5;124;43m'\u001b[39;49m\u001b[43m]\u001b[49m)\n\u001b[0;32m     22\u001b[0m \u001b[38;5;28mprint\u001b[39m(class_room_data)\n",
      "\u001b[1;31mTypeError\u001b[0m: string indices must be integers, not 'str'"
     ]
    }
   ],
   "source": [
    "class_room_data = {\n",
    "    'stu_no' : [1, 2, 3, 4, 5],\n",
    "    'stu_name' : ['김자바', '이자바', '박자바', '최자바', '정자바'],\n",
    "    'stu_score' : [85, 65, 70, 80, 95]\n",
    "}\n",
    "\n",
    "#6번 문제 풀이 작성\n",
    "def getGrade(stu_score):\n",
    "    if int(stu_score) >= 90:\n",
    "        return \"A\"\n",
    "    elif int(stu_score) >= 80:\n",
    "        return \"B\"\n",
    "    elif int(stu_score) >= 70:\n",
    "        return \"C\"\n",
    "    else:\n",
    "        return \"D\"\n",
    "\n",
    "for data in class_room_data :\n",
    "    data['stu_grade'] = getGrade(data['stu_score'])\n",
    "\n",
    "\n",
    "print(class_room_data)\n",
    "\n"
   ]
  }
 ],
 "metadata": {
  "kernelspec": {
   "display_name": "Python 3",
   "language": "python",
   "name": "python3"
  },
  "language_info": {
   "codemirror_mode": {
    "name": "ipython",
    "version": 3
   },
   "file_extension": ".py",
   "mimetype": "text/x-python",
   "name": "python",
   "nbconvert_exporter": "python",
   "pygments_lexer": "ipython3",
   "version": "3.13.2"
  }
 },
 "nbformat": 4,
 "nbformat_minor": 5
}
