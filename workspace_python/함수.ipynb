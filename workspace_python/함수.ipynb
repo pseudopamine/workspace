{
 "cells": [
  {
   "cell_type": "code",
   "execution_count": null,
   "metadata": {},
   "outputs": [
    {
     "name": "stdout",
     "output_type": "stream",
     "text": [
      "hello\n"
     ]
    }
   ],
   "source": [
    "# 함수 선언\n",
    "def sayHello() :\n",
    "  print('hello')\n",
    "  print('hello')\n",
    "\n"
   ]
  },
  {
   "cell_type": "code",
   "execution_count": 2,
   "metadata": {},
   "outputs": [
    {
     "name": "stdout",
     "output_type": "stream",
     "text": [
      "hello\n",
      "hello\n"
     ]
    }
   ],
   "source": [
    "# 함수 호출\n",
    "sayHello()"
   ]
  },
  {
   "cell_type": "code",
   "execution_count": 3,
   "metadata": {},
   "outputs": [],
   "source": [
    "# 리턴이 있는 함수\n",
    "def getSum() : \n",
    "  return 10 + 20"
   ]
  },
  {
   "cell_type": "code",
   "execution_count": 5,
   "metadata": {},
   "outputs": [
    {
     "name": "stdout",
     "output_type": "stream",
     "text": [
      "30\n"
     ]
    }
   ],
   "source": [
    "result1 = getSum()\n",
    "print(result1)"
   ]
  },
  {
   "cell_type": "code",
   "execution_count": null,
   "metadata": {},
   "outputs": [
    {
     "data": {
      "text/plain": [
       "30"
      ]
     },
     "execution_count": 6,
     "metadata": {},
     "output_type": "execute_result"
    }
   ],
   "source": [
    "# 여기서 잠깐!\n",
    "# print() 함수를 사용하지 않아도 출력 결과를 확인할 수 있다.\n",
    "# print() 함수를 사용하지 않으면, 가장 마지막 데이터만 출력된다.\n",
    "getSum()"
   ]
  },
  {
   "cell_type": "code",
   "execution_count": 7,
   "metadata": {},
   "outputs": [],
   "source": [
    "# 파이썬은 리턴을 여러 개 할 수 있다.\n",
    "def getNumber() :\n",
    "  return 10, 20"
   ]
  },
  {
   "cell_type": "code",
   "execution_count": null,
   "metadata": {},
   "outputs": [
    {
     "name": "stdout",
     "output_type": "stream",
     "text": [
      "10\n",
      "20\n"
     ]
    }
   ],
   "source": [
    "# 리턴되는 데이터가 여러 개라면 리턴되는 데이터 순서대로 변수에 차례대로 리턴받을 수 있다.\n",
    "data1, data2 = getNumber()\n",
    "print(data1)\n",
    "print(data2)"
   ]
  },
  {
   "cell_type": "code",
   "execution_count": 10,
   "metadata": {},
   "outputs": [],
   "source": [
    "# 매개변수가 있는 함수\n",
    "def getMulti(a, b) : \n",
    "  return a * b\n"
   ]
  },
  {
   "cell_type": "code",
   "execution_count": 11,
   "metadata": {},
   "outputs": [
    {
     "name": "stdout",
     "output_type": "stream",
     "text": [
      "6\n"
     ]
    }
   ],
   "source": [
    "result2 = getMulti(3, 2)\n",
    "print(result2)"
   ]
  },
  {
   "cell_type": "code",
   "execution_count": 18,
   "metadata": {},
   "outputs": [],
   "source": [
    "# 매개변수에 default값을 지정한 함수\n",
    "def getResult(a, b, c = 10) :\n",
    "  return (a + b) * c\n"
   ]
  },
  {
   "cell_type": "code",
   "execution_count": null,
   "metadata": {},
   "outputs": [
    {
     "name": "stdout",
     "output_type": "stream",
     "text": [
      "9\n",
      "30\n"
     ]
    }
   ],
   "source": [
    "# 매개변수에 dafault값을 설정하면 매개변수의 객수가 달라도 함수 호출 가능\n",
    "print(getResult(1, 2, 3))\n",
    "print(getResult(1, 2))  # 세번째 매개변수의 값을 전달하지 않으면 기본값으로 세팅됨"
   ]
  },
  {
   "cell_type": "code",
   "execution_count": 20,
   "metadata": {},
   "outputs": [],
   "source": [
    "def printInfo(name, age) : \n",
    "  print(f'이름은 {name}이고, 나이는 {age}입니다.')"
   ]
  },
  {
   "cell_type": "code",
   "execution_count": 24,
   "metadata": {},
   "outputs": [
    {
     "name": "stdout",
     "output_type": "stream",
     "text": [
      "이름은 홍길동이고, 나이는 30입니다.\n",
      "이름은 장길산이고, 나이는 40입니다.\n"
     ]
    }
   ],
   "source": [
    "printInfo('홍길동', 30)\n",
    "printInfo(age = 40, name = '장길산')"
   ]
  },
  {
   "cell_type": "code",
   "execution_count": null,
   "metadata": {},
   "outputs": [],
   "source": []
  }
 ],
 "metadata": {
  "kernelspec": {
   "display_name": "Python 3",
   "language": "python",
   "name": "python3"
  },
  "language_info": {
   "codemirror_mode": {
    "name": "ipython",
    "version": 3
   },
   "file_extension": ".py",
   "mimetype": "text/x-python",
   "name": "python",
   "nbconvert_exporter": "python",
   "pygments_lexer": "ipython3",
   "version": "3.13.2"
  }
 },
 "nbformat": 4,
 "nbformat_minor": 2
}
