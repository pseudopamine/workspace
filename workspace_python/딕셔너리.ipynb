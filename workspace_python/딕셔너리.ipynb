{
 "cells": [
  {
   "cell_type": "code",
   "execution_count": null,
   "metadata": {},
   "outputs": [],
   "source": [
    "# 딕셔너리 (dictionary)\n",
    "# 다수의 데이터를 key와 value의 한 쌍으로 저장하는 자료형"
   ]
  },
  {
   "cell_type": "code",
   "execution_count": null,
   "metadata": {},
   "outputs": [
    {
     "name": "stdout",
     "output_type": "stream",
     "text": [
      "{'학번': 3, '이름': '이', '점수': 80}\n"
     ]
    }
   ],
   "source": [
    "# dictionary 데이터를 생성\n",
    "dic1 = {} # 빈 dictionary 데이터 생성\n",
    "dic2 = {\n",
    "  '학번' : 3,   \n",
    "  '이름' : '김',\n",
    "  '점수' : 80,\n",
    "  '이름' : '이'\n",
    "}\n",
    "\n",
    "print(dic2)\n"
   ]
  },
  {
   "cell_type": "code",
   "execution_count": 2,
   "metadata": {},
   "outputs": [
    {
     "name": "stdout",
     "output_type": "stream",
     "text": [
      "3\n"
     ]
    }
   ],
   "source": [
    "# dictionary 데이터 읽기\n",
    "print(dic2['학번'])"
   ]
  },
  {
   "cell_type": "code",
   "execution_count": null,
   "metadata": {},
   "outputs": [
    {
     "name": "stdout",
     "output_type": "stream",
     "text": [
      "{'modelName': 's20', 'price': 10000, 'color': 'red'}\n",
      "{'modelName': 's20', 'price': 5000, 'color': 'red'}\n"
     ]
    }
   ],
   "source": [
    "phone = {\n",
    "  'modelName' : 's20',\n",
    "  'price' : 10000\n",
    "}\n",
    "\n",
    "# dictionary 데이터 추가\n",
    "phone['color'] = 'red'\n",
    "print(phone)\n",
    "\n",
    "# dictionary 데이터 변경\n",
    "phone['price'] = 5000\n",
    "print(phone)\n"
   ]
  },
  {
   "cell_type": "code",
   "execution_count": null,
   "metadata": {},
   "outputs": [
    {
     "name": "stdout",
     "output_type": "stream",
     "text": [
      "{'brand': 'samsung', 'price': 1000}\n"
     ]
    }
   ],
   "source": [
    "# dictionary 데이터 삭제\n",
    "monitor = {\n",
    "  'brand' : 'samsung',\n",
    "  'price' : 1000,\n",
    "  'color' : 'black'\n",
    "}\n",
    "\n",
    "# monitor dictionary 데이터에서 color 값을 삭제\n",
    "del monitor['color']\n",
    "\n",
    "print(monitor)"
   ]
  },
  {
   "cell_type": "code",
   "execution_count": 16,
   "metadata": {},
   "outputs": [
    {
     "name": "stdout",
     "output_type": "stream",
     "text": [
      "key = brand, value = samsung\n",
      "key = price, value = 1000\n",
      "key = color, value = black\n"
     ]
    }
   ],
   "source": [
    "monitor = {\n",
    "  'brand' : 'samsung',\n",
    "  'price' : 1000,\n",
    "  'color' : 'black'\n",
    "}\n",
    "\n",
    "# dictionary 데이터를 반복 돌리면 key값만 출력됨\n",
    "for e in monitor : \n",
    "  print(f'key = {e}, value = {monitor[e]}')"
   ]
  },
  {
   "cell_type": "code",
   "execution_count": 17,
   "metadata": {},
   "outputs": [],
   "source": [
    "member = {\n",
    "  '이름' : '홍길동',\n",
    "  '나이' : 20,\n",
    "  '취미' : ['운동', '독서', '등산'],\n",
    "  '가족' : [\n",
    "    {\n",
    "      '관계' : '아빠',\n",
    "      '이름' : '홍아빠',\n",
    "    },\n",
    "    {\n",
    "      '관계' : '엄마',\n",
    "      '이름' : '홍엄마'\n",
    "    }\n",
    "  ]\n",
    "}"
   ]
  },
  {
   "cell_type": "code",
   "execution_count": null,
   "metadata": {},
   "outputs": [
    {
     "name": "stdout",
     "output_type": "stream",
     "text": [
      "운동 독서 등산  \n",
      "['운동', '독서', '등산']\n",
      "3\n",
      "등산\n",
      "홍아빠\n",
      "{'관계': '엄마', '이름': '홍엄마', '나이': 50}\n",
      "{'이름': '홍길동', '나이': 20, '취미': ['운동', '독서', '등산'], '가족': [{'관계': '아빠', '이름': '홍아빠'}, {'관계': '엄마', '이름': '홍엄마', '나이': 50}]}\n"
     ]
    }
   ],
   "source": [
    "# member 딕셔너리에서 모든 취미를 출력\n",
    "\n",
    "for hobby in member['취미'] :\n",
    "  print(hobby, end=' ')\n",
    "print(' ')\n",
    "\n",
    "print(member['취미'])\n",
    "\n",
    "# member 딕셔너리에서 모든 취미의 갯수를 출력\n",
    "print(len(member['취미']))\n",
    "\n",
    "# member 딕셔너리에서 마지막 취미를 출력\n",
    "print(member['취미'][-1])\n",
    "\n",
    "\n",
    "# member 딕셔너리에서 아빠의 이름을 출력\n",
    "print(member['가족'][0]['이름'])\n",
    "\n",
    "\n",
    "# member 딕셔너리에서 엄마의 나이를 추가 (나이는50)\n",
    "member['가족'][1]['나이'] = 50\n",
    "\n",
    "print(member['가족'][1])\n",
    "\n",
    "\n",
    "\n",
    "\n"
   ]
  },
  {
   "cell_type": "code",
   "execution_count": null,
   "metadata": {},
   "outputs": [],
   "source": []
  },
  {
   "cell_type": "code",
   "execution_count": null,
   "metadata": {},
   "outputs": [],
   "source": []
  }
 ],
 "metadata": {
  "kernelspec": {
   "display_name": "Python 3",
   "language": "python",
   "name": "python3"
  },
  "language_info": {
   "codemirror_mode": {
    "name": "ipython",
    "version": 3
   },
   "file_extension": ".py",
   "mimetype": "text/x-python",
   "name": "python",
   "nbconvert_exporter": "python",
   "pygments_lexer": "ipython3",
   "version": "3.13.2"
  }
 },
 "nbformat": 4,
 "nbformat_minor": 2
}
