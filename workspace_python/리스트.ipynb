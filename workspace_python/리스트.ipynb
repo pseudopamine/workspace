{
 "cells": [
  {
   "cell_type": "markdown",
   "metadata": {},
   "source": [
    "#### 1. 리스트(list)"
   ]
  },
  {
   "cell_type": "code",
   "execution_count": null,
   "metadata": {},
   "outputs": [],
   "source": [
    "#리스트 생성(JS의 배열과 유사)\n",
    "#주의! = 변수명을 절대로 list로 선언하지 말 것!\n",
    "list1 = [] #빈 리스트를 생성\n",
    "list2 = [1, 2, 3] \n",
    "list3 = [1, 2, 'python', [7, 8]] #리스트에는 다른 자료형도 저장 가능\n"
   ]
  },
  {
   "cell_type": "code",
   "execution_count": null,
   "metadata": {},
   "outputs": [
    {
     "name": "stdout",
     "output_type": "stream",
     "text": [
      "[1, 2, 3]\n",
      "2\n",
      "8\n"
     ]
    }
   ],
   "source": [
    "#리스트의 데이터 출력\n",
    "print(list2)  #[1, 2, 3] 출력\n",
    "print(list2[1])  #2 출력\n",
    "print(list3[3][1])  #8 출력"
   ]
  },
  {
   "cell_type": "code",
   "execution_count": null,
   "metadata": {},
   "outputs": [
    {
     "name": "stdout",
     "output_type": "stream",
     "text": [
      "[1, 2, 3]\n",
      "[1, 2, 3, 5, 7]\n",
      "[1, 10, 2, 3, 5, 7]\n"
     ]
    }
   ],
   "source": [
    "#리스트에 데이터 추가하기\n",
    "#1. append() 함수 - 리스트의 마지막 요소에 데이터를 추가\n",
    "list1 = [1, 2, 3]\n",
    "print(list1)  #[1, 2, 3] 출력\n",
    "\n",
    "list1.append(5)\n",
    "list1.append(7)\n",
    "print(list1)  #[1, 2, 3, 5, 7] 출력\n",
    "\n",
    "#2. insert() 함수 사용 - 지정한 위치에 데이터를 추가\n",
    "list1.insert(1, 10)  #list1의 1번째 자리에 10을 넣겠다 - 첫번째 인자 : 추가할 index, 두번째 인자 : 추가할 데이터\n",
    "print(list1)  #[1, 10, 2, 3, 5, 7]\n"
   ]
  },
  {
   "cell_type": "code",
   "execution_count": null,
   "metadata": {},
   "outputs": [
    {
     "name": "stdout",
     "output_type": "stream",
     "text": [
      "[1, 2, 4, 5, 3]\n"
     ]
    }
   ],
   "source": [
    "# 리스트 데이터의 삭제\n",
    "list1 = [1, 2, 3, 4, 5, 3]\n",
    "\n",
    "# *추천방식* del 명령어 사용 - 리스트의 index 번호로 데이터를 삭제\n",
    "del list1[2]  #list1의 2번째 요소를 삭제하겠다.\n",
    "\n",
    "# del 명령어 사용 시 주의사항\n",
    "#del list1  #list1이라는 변수 자체가 삭제됨\n",
    "\n",
    "# remove(삭제할 데이터)\n",
    "# 데이터가 간단할 때에만 사용하기 용이한 함수 (추천하지 않는 방법)\n",
    "# list1.remove(3)\n",
    "print(list1)"
   ]
  },
  {
   "cell_type": "code",
   "execution_count": 14,
   "metadata": {},
   "outputs": [
    {
     "name": "stdout",
     "output_type": "stream",
     "text": [
      "[1, 5, 3]\n",
      "[1, 5, 'hello']\n"
     ]
    }
   ],
   "source": [
    "# 리스트 데이터의 수정\n",
    "list1 = [1, 2, 3]\n",
    "list1[1] = 5\n",
    "print(list1)\n",
    "\n",
    "list1[2] = 'hello'\n",
    "print(list1)"
   ]
  },
  {
   "cell_type": "code",
   "execution_count": null,
   "metadata": {},
   "outputs": [],
   "source": [
    "# 파이썬에는 특별한 자료형이 존재하지 않음\n",
    "# 그러나 자료형이 없으면 문제가 생기는 경우가 많음\n",
    "# Typescript"
   ]
  },
  {
   "cell_type": "code",
   "execution_count": 16,
   "metadata": {},
   "outputs": [
    {
     "name": "stdout",
     "output_type": "stream",
     "text": [
      "[1, 2, 3, 4, 5, 6]\n",
      "[1, 2, 3, 1, 2, 3, 1, 2, 3]\n"
     ]
    }
   ],
   "source": [
    "# 리스트 나열\n",
    "list1 = [1, 2, 3] + [4, 5, 6]\n",
    "print(list1)\n",
    "\n",
    "# 곱하기 (자주 쓰지는 않음)\n",
    "list2 = [1, 2, 3] * 3\n",
    "print(list2)"
   ]
  },
  {
   "cell_type": "code",
   "execution_count": null,
   "metadata": {},
   "outputs": [
    {
     "name": "stdout",
     "output_type": "stream",
     "text": [
      "[2, 3, 4]\n",
      "[2, 3, 4]\n",
      "[3, 4, 5]\n",
      "[1, 2, 3]\n",
      "[1, 2, 3, 4, 5]\n",
      "[3, 4]\n"
     ]
    }
   ],
   "source": [
    "# 리스트의 슬라이싱 연산(파이썬 특, 가장 많이 쓰임) - 데이터의 일부분을 추출하는 기능\n",
    "list1 = [1, 2, 3, 4, 5]\n",
    "print(list1[1:4])  #[시작인덱스 : 마지막인덱스(포함X)] - 1번째부터 4번째 index 전 까지 \n",
    "list2 = list1[1:4]\n",
    "print(list2)\n",
    "\n",
    "list3 = [1, 2, 3, 4, 5]\n",
    "print(list3[2:])  # 마지막인덱스에 값을 넣지 않으면 [시작인덱스 : ] - 2번째부터 끝까지\n",
    "print(list3[:3])  # 처음부터 3번째 인덱스 전까지\n",
    "print(list3[:])  # 처음부터 끝까지\n",
    "print(list3[2:-1])  # 뒤에서 1번째\n"
   ]
  },
  {
   "cell_type": "code",
   "execution_count": 27,
   "metadata": {},
   "outputs": [
    {
     "name": "stdout",
     "output_type": "stream",
     "text": [
      "대\n",
      "민국 울산\n",
      "052-1111-2222\n",
      "052-2222-3333\n",
      "052-3333-4444\n"
     ]
    }
   ],
   "source": [
    "# 파이썬은 문자열도 리스트로 취급\n",
    "addr = '대한민국 울산시 남구'\n",
    "print(addr[0])\n",
    "print(addr[2 : 7])\n",
    "\n",
    "# 마이너스 인덱스 사용 예시\n",
    "addrList = [\n",
    "  '스타벅스 삼산지점 052-1111-2222',\n",
    "  '스타벅스 신정 2호점 052-2222-3333',\n",
    "  '스타벅스 울산남구점 052-3333-4444'\n",
    "]\n",
    "\n",
    "# 스벅 매장 정보에서 연락처만 추출\n",
    "print(addrList[0][10:])\n",
    "print(addrList[1][12:])\n",
    "print(addrList[2][-13:])"
   ]
  },
  {
   "cell_type": "code",
   "execution_count": 28,
   "metadata": {},
   "outputs": [
    {
     "name": "stdout",
     "output_type": "stream",
     "text": [
      "[1, 4, 5]\n"
     ]
    }
   ],
   "source": [
    "# 슬라이싱을 이용한 리스트의 데이터 제거\n",
    "list1 = [1, 2, 3, 4, 5]\n",
    "\n",
    "del list1[1:3]\n",
    "print(list1)"
   ]
  },
  {
   "cell_type": "code",
   "execution_count": 30,
   "metadata": {},
   "outputs": [
    {
     "name": "stdout",
     "output_type": "stream",
     "text": [
      "[1, 7, 8, 4, 5]\n",
      "[1, 1, 2, 5]\n"
     ]
    }
   ],
   "source": [
    "# 슬라이싱을 이용한 데이터 수정\n",
    "list1 = [1, 2, 3, 4, 5]\n",
    "\n",
    "list1[1:3] = [7, 8]\n",
    "print(list1)\n",
    "\n",
    "list1[1:4] = [1, 2]\n",
    "print(list1)"
   ]
  },
  {
   "cell_type": "code",
   "execution_count": 32,
   "metadata": {},
   "outputs": [
    {
     "name": "stdout",
     "output_type": "stream",
     "text": [
      "python\n"
     ]
    }
   ],
   "source": [
    "# 리스트의 마지막 데이터 찾기\n",
    "list2 = [3, 8, 'java', 10, 'python']\n",
    "\n",
    "print(list2[-1])"
   ]
  },
  {
   "cell_type": "code",
   "execution_count": null,
   "metadata": {},
   "outputs": [],
   "source": []
  }
 ],
 "metadata": {
  "kernelspec": {
   "display_name": "Python 3",
   "language": "python",
   "name": "python3"
  },
  "language_info": {
   "codemirror_mode": {
    "name": "ipython",
    "version": 3
   },
   "file_extension": ".py",
   "mimetype": "text/x-python",
   "name": "python",
   "nbconvert_exporter": "python",
   "pygments_lexer": "ipython3",
   "version": "3.13.2"
  }
 },
 "nbformat": 4,
 "nbformat_minor": 2
}
