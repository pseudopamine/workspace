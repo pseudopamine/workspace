{
 "cells": [
  {
   "cell_type": "code",
   "execution_count": 1,
   "metadata": {},
   "outputs": [],
   "source": [
    "# 아래의 딕셔너리 데이터를 참고하여 문제 해결\n",
    "student = {\n",
    "  'name' : 'hong',\n",
    "  'korScore' : 0,\n",
    "  'mathScore' : 0,\n",
    "}"
   ]
  },
  {
   "cell_type": "code",
   "execution_count": 3,
   "metadata": {},
   "outputs": [
    {
     "name": "stdout",
     "output_type": "stream",
     "text": [
      "{'name': 'hong', 'korScore': 80, 'mathScore': 88}\n"
     ]
    }
   ],
   "source": [
    "#1. 위에서 선언한 딕셔너리 데이터의 국어점수 및 수학점수 데이터를 키보드로 입력받은 데이터로 변경하시오\n",
    "student['korScore'] = int(input('국어점수를 입력하시오'))\n",
    "student['mathScore'] = int(input('수학점수를 입력하시오'))\n",
    "\n",
    "print(student)"
   ]
  },
  {
   "cell_type": "code",
   "execution_count": null,
   "metadata": {},
   "outputs": [
    {
     "name": "stdout",
     "output_type": "stream",
     "text": [
      "{'name': 'hong', 'korScore': 80, 'mathScore': 88, 'totalScore': 168}\n"
     ]
    }
   ],
   "source": [
    "#2. 위의 딕셔너리 데이터에 총점(totalScore) key를 추가하고, value 값은 국어와 수학점수의 합으로 지정하시오. \n",
    "student['totalScore'] = student['korScore'] + student['mathScore']\n",
    "\n",
    "print(student)"
   ]
  },
  {
   "cell_type": "code",
   "execution_count": 17,
   "metadata": {},
   "outputs": [
    {
     "name": "stdout",
     "output_type": "stream",
     "text": [
      "256\n"
     ]
    }
   ],
   "source": [
    "scores = {\n",
    "  'korScore' : 90,\n",
    "  'engScore' : 80,\n",
    "  'mathScore' : 86\n",
    "}\n",
    "# 매개변수로 전달되는 학생점수 객체의 모든점수의 합을 리턴하는 함수를 선언하고 호출해보세요.\n",
    "\n",
    "def getSumScores(scores) :\n",
    "  result = 0\n",
    "  for e in scores : \n",
    "    result = result + scores[e]\n",
    "  return result\n",
    "\n",
    "print(getSumScores(scores))"
   ]
  },
  {
   "cell_type": "code",
   "execution_count": 22,
   "metadata": {},
   "outputs": [],
   "source": [
    "'''\n",
    "매개변수로 전달된 딕셔너리에 key와 value를 추가한 딕셔너리를 리턴하는 함수를 선언하고 호출하세요.\n",
    "첫번째 매개변수 : 딕셔너리\n",
    "두번째 매개변수 : 추가할 key\n",
    "세번째 매개변수 : 추가할 value\n",
    "'''\n",
    "\n",
    "def getDicData(dic, newKey, newValue) : \n",
    "  dic[newKey] = newValue\n",
    "  return dic\n",
    "\n",
    "\n"
   ]
  },
  {
   "cell_type": "code",
   "execution_count": 24,
   "metadata": {},
   "outputs": [
    {
     "name": "stdout",
     "output_type": "stream",
     "text": [
      "{'name': '홍', 'age': 30, 'addr': '울산시'}\n"
     ]
    }
   ],
   "source": [
    "person = {\n",
    "  'name' : '홍',\n",
    "  'age' : 30\n",
    "}\n",
    "\n",
    "getDicData(person, 'addr', '울산시')\n",
    "\n",
    "print(person)"
   ]
  },
  {
   "cell_type": "code",
   "execution_count": null,
   "metadata": {},
   "outputs": [
    {
     "name": "stdout",
     "output_type": "stream",
     "text": [
      "[2, 4, 6]\n"
     ]
    }
   ],
   "source": [
    "#매개변수로 두 리스트가 전달되면 두 리스트의 모든 요소에서 짝수 데이터만 가진 리스트를 리턴하는 함수를 선언하고 호출하세요. 단 두 리스트의 데이터는 중복이 없다고 가정한다.\n",
    "#ex> 첫번째 매개변수 : [1, 2, 5], 두번째 매개변수 : [4, 7, 10] -> 결과 [2, 4, 10]\n",
    "\n",
    "def getEvenList(list1, list2) :\n",
    "  list3 = list1 + list2\n",
    "  resultList = []\n",
    "  for i in list3 :\n",
    "    if i % 2 == 0 :\n",
    "      resultList.append(i)\n",
    "  return resultList\n",
    "\n",
    "list4 = [1,2,3]\n",
    "list5 = [4,5,6]\n",
    "print(getEvenList(list4, list5))\n"
   ]
  },
  {
   "cell_type": "code",
   "execution_count": 34,
   "metadata": {},
   "outputs": [
    {
     "name": "stdout",
     "output_type": "stream",
     "text": [
      "apple\n",
      "banana\n",
      "orange\n",
      "5\n",
      "{'apple': 5, 'banana': 6, 'orange': 6}\n"
     ]
    }
   ],
   "source": [
    "'''\n",
    "매개변수로 문자열 리스트가 전달되면 리스트의 문자열과 문자열의 길이를 딕셔너리로 리턴하는 함수를 선언하고 호출해보세요\n",
    "len(문자열)을 사용하면 문자열의 길이를 알 수 있음\n",
    "#ex> 매개변수 : ['apple', 'banana', 'orange']\n",
    "결과 : {\n",
    "  'apple' : 5, \n",
    "  'banana' : 6,\n",
    "  'orange' : 6\n",
    "}\n",
    "'''\n",
    "\n",
    "charList = ['apple', 'banana', 'orange']\n",
    "\n",
    "for e in charList : \n",
    "  print(e)\n",
    "\n",
    "print(len(charList[0]))\n",
    "\n",
    "\n",
    "def getDicFromList(charList) :\n",
    "  dic = {}\n",
    "  for e in charList :\n",
    "    dic[e] = len(e)\n",
    "  return dic\n",
    "\n",
    "print(getDicFromList(charList))\n",
    "\n"
   ]
  }
 ],
 "metadata": {
  "kernelspec": {
   "display_name": "Python 3",
   "language": "python",
   "name": "python3"
  },
  "language_info": {
   "codemirror_mode": {
    "name": "ipython",
    "version": 3
   },
   "file_extension": ".py",
   "mimetype": "text/x-python",
   "name": "python",
   "nbconvert_exporter": "python",
   "pygments_lexer": "ipython3",
   "version": "3.13.2"
  }
 },
 "nbformat": 4,
 "nbformat_minor": 2
}
