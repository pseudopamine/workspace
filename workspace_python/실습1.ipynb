{
 "cells": [
  {
   "cell_type": "code",
   "execution_count": 13,
   "metadata": {},
   "outputs": [
    {
     "name": "stdout",
     "output_type": "stream",
     "text": [
      "0입니다\n"
     ]
    }
   ],
   "source": [
    "# 키보드로 정수를 입력받아 입력받은 정수가 짝수면 1을 출력, 홀수면 2를 출력\n",
    "# 입력받은 수가 0이면 '0입니다'를 출력하는 코드 작성\n",
    "# int('문자열') -> 문자열을 정수로 반환\n",
    "\n",
    "data = int(input('정수를 입력하세요'))\n",
    "\n",
    "if data % 2 == 0 & data != 0:\n",
    "  print(1)\n",
    "elif data % 2 != 0 :\n",
    "  print(2)\n",
    "else :\n",
    "  print('0입니다')"
   ]
  },
  {
   "cell_type": "code",
   "execution_count": 16,
   "metadata": {},
   "outputs": [
    {
     "name": "stdout",
     "output_type": "stream",
     "text": [
      "55\n"
     ]
    }
   ],
   "source": [
    "# 키보드로 정수를 입력받아, 0부터 입력받은 수까지의 합을 출력\n",
    "num = int(input('정수입력'))\n",
    "sum = 0\n",
    "for i in range(num + 1) :\n",
    "  sum = sum + i\n",
    "print(sum)"
   ]
  },
  {
   "cell_type": "code",
   "execution_count": 22,
   "metadata": {},
   "outputs": [
    {
     "name": "stdout",
     "output_type": "stream",
     "text": [
      "7 * 1 = 7\n",
      "7 * 2 = 14\n",
      "7 * 3 = 21\n",
      "7 * 4 = 28\n",
      "7 * 5 = 35\n",
      "7 * 6 = 42\n",
      "7 * 7 = 49\n",
      "7 * 8 = 56\n",
      "7 * 9 = 63\n"
     ]
    }
   ],
   "source": [
    "# 키보드로 1~9까지의 정수를 입력받아, 입력받은 숫자의 구구단을 출력.\n",
    "#ex> 2 * 1 = 2\n",
    "#ex> 2 * 2 = 4\n",
    "#ex> 2 * 3 = 6\n",
    "# . . . .\n",
    "#ex> 2 * 9 = 18\n",
    "\n",
    "mul = int(input('정수 입력'))\n",
    "for i in range(1, 10) :\n",
    "  print(f'{mul} * {i} = {mul * i}')\n",
    "\n"
   ]
  },
  {
   "cell_type": "code",
   "execution_count": null,
   "metadata": {},
   "outputs": [],
   "source": []
  },
  {
   "cell_type": "code",
   "execution_count": null,
   "metadata": {},
   "outputs": [],
   "source": []
  },
  {
   "cell_type": "code",
   "execution_count": null,
   "metadata": {},
   "outputs": [],
   "source": []
  },
  {
   "cell_type": "code",
   "execution_count": null,
   "metadata": {},
   "outputs": [],
   "source": []
  },
  {
   "cell_type": "code",
   "execution_count": null,
   "metadata": {},
   "outputs": [],
   "source": []
  },
  {
   "cell_type": "code",
   "execution_count": null,
   "metadata": {},
   "outputs": [],
   "source": []
  },
  {
   "cell_type": "code",
   "execution_count": null,
   "metadata": {},
   "outputs": [],
   "source": []
  }
 ],
 "metadata": {
  "kernelspec": {
   "display_name": "Python 3",
   "language": "python",
   "name": "python3"
  },
  "language_info": {
   "codemirror_mode": {
    "name": "ipython",
    "version": 3
   },
   "file_extension": ".py",
   "mimetype": "text/x-python",
   "name": "python",
   "nbconvert_exporter": "python",
   "pygments_lexer": "ipython3",
   "version": "3.13.2"
  }
 },
 "nbformat": 4,
 "nbformat_minor": 2
}
